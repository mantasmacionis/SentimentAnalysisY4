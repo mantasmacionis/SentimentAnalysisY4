{
 "cells": [
  {
   "cell_type": "code",
   "execution_count": null,
   "id": "f07e3f33-7cd4-4060-af1a-32bcbb5ebb25",
   "metadata": {},
   "outputs": [],
   "source": [
    "import praw\n",
    "import time\n",
    "\n",
    "reddit = praw.Reddit(\n",
    "client_id =\"oARe5LZ88eJqYt00KweuLQ\",\n",
    "client_secret =\"_O8SrOTg38EQsyp9G3X7VeWcOJJuVg\",\n",
    "user_agent =\"Y4Test by u/Mantas______\",\n",
    "username =\"Mantas______\",\n",
    "password =\"password--change this\",\n",
    ")\n",
    "\n",
    "\n",
    "keyword = \"Python\"  # word to search \n",
    "\n",
    "#  represent all subreddits\n",
    "all_subreddits = reddit.subreddit(\"all\")\n",
    "\n",
    "# Search for top submissions containing the keyword in the title across all subreddits\n",
    "top_submissions_with_keyword = all_subreddits.search(query=f\"title:{keyword}\", sort=\"top\", time_filter=\"all\", limit=10, syntax=\"lucene\")\n",
    "\n",
    "for submission in top_submissions_with_keyword:\n",
    "    print(\"Submission ID - \", submission.id)\n",
    "    print(\"Author - \", submission.author)\n",
    "    print(\"Score - \", submission.score)\n",
    "    print(\"Title - \", submission.title)\n",
    "    print(\"Selftext - \", submission.selftext)\n",
    "    print(\"Created - \", submission.created_utc)\n",
    "    print(\"\\n\")\n",
    "\n",
    "    # Retrieve comments for each submission\n",
    "    submission.comments.replace_more(limit=None)\n",
    "    \n",
    "    # Filter comments containing the keyword\n",
    "    comments_with_keyword = [comment for comment in submission.comments.list() if keyword.lower() in comment.body.lower()]\n",
    "\n",
    "    # Limit the number of comments to 10\n",
    "    for comment in comments_with_keyword[:10]:\n",
    "        print(\"Comment ID - \", comment.id)\n",
    "        print(\"Author - \", comment.author)\n",
    "        print(\"Score - \", comment.score)\n",
    "        print(\"Body - \", comment.body)\n",
    "        print(\"Created - \", comment.created_utc)\n",
    "        print(\"\\n\")\n",
    "\n",
    "    # add a delay if getting rate error .. time import\n",
    "   \n"
   ]
  },
  {
   "cell_type": "code",
   "execution_count": null,
   "id": "cc30c212-8688-41db-a3cb-bd3d33719515",
   "metadata": {},
   "outputs": [],
   "source": []
  }
 ],
 "metadata": {
  "kernelspec": {
   "display_name": "Python 3 (ipykernel)",
   "language": "python",
   "name": "python3"
  },
  "language_info": {
   "codemirror_mode": {
    "name": "ipython",
    "version": 3
   },
   "file_extension": ".py",
   "mimetype": "text/x-python",
   "name": "python",
   "nbconvert_exporter": "python",
   "pygments_lexer": "ipython3",
   "version": "3.12.1"
  }
 },
 "nbformat": 4,
 "nbformat_minor": 5
}
